{
 "cells": [
  {
   "cell_type": "code",
   "execution_count": 32,
   "metadata": {},
   "outputs": [],
   "source": [
    "import json\n",
    "import matplotlib.pyplot as plt\n",
    "import pandas as pd\n",
    "import altair as alt"
   ]
  },
  {
   "cell_type": "code",
   "execution_count": 47,
   "metadata": {},
   "outputs": [
    {
     "data": {
      "text/plain": [
       "311"
      ]
     },
     "execution_count": 47,
     "metadata": {},
     "output_type": "execute_result"
    }
   ],
   "source": [
    "with open('data.json') as json_file:\n",
    "    data = json.load(json_file)\n",
    "len(data['epoch_score'])"
   ]
  },
  {
   "cell_type": "code",
   "execution_count": 48,
   "metadata": {},
   "outputs": [
    {
     "data": {
      "image/png": "[encoded data removed]",
      "text/plain": [
       "<Figure size 432x288 with 1 Axes>"
      ]
     },
     "metadata": {
      "needs_background": "light"
     },
     "output_type": "display_data"
    }
   ],
   "source": [
    "plt.plot(data['epoch_score'])\n",
    "plt.ylabel('score')\n",
    "plt.xlabel('epoch')\n",
    "plt.show()"
   ]
  },
  {
   "cell_type": "code",
   "execution_count": 51,
   "metadata": {},
   "outputs": [
    {
     "data": {
      "text/html": [
       "\n",
       "<div id=\"altair-viz-8f81fd48a2ee41a293701a0b81009014\"></div>\n",
       "<script type=\"text/javascript\">\n",
       "  var VEGA_DEBUG = (typeof VEGA_DEBUG == \"undefined\") ? {} : VEGA_DEBUG;\n",
       "  (function(spec, embedOpt){\n",
       "    let outputDiv = document.currentScript.previousElementSibling;\n",
       "    if (outputDiv.id !== \"altair-viz-8f81fd48a2ee41a293701a0b81009014\") {\n",
       "      outputDiv = document.getElementById(\"altair-viz-8f81fd48a2ee41a293701a0b81009014\");\n",
       "    }\n",
       "    const paths = {\n",
       "      \"vega\": \"https://cdn.jsdelivr.net/npm//vega@5?noext\",\n",
       "      \"vega-lib\": \"https://cdn.jsdelivr.net/npm//vega-lib?noext\",\n",
       "      \"vega-lite\": \"https://cdn.jsdelivr.net/npm//vega-lite@4.17.0?noext\",\n",
       "      \"vega-embed\": \"https://cdn.jsdelivr.net/npm//vega-embed@6?noext\",\n",
       "    };\n",
       "\n",
       "    function maybeLoadScript(lib, version) {\n",
       "      var key = `${lib.replace(\"-\", \"\")}_version`;\n",
       "      return (VEGA_DEBUG[key] == version) ?\n",
       "        Promise.resolve(paths[lib]) :\n",
       "        new Promise(function(resolve, reject) {\n",
       "          var s = document.createElement('script');\n",
       "          document.getElementsByTagName(\"head\")[0].appendChild(s);\n",
       "          s.async = true;\n",
       "          s.onload = () => {\n",
       "            VEGA_DEBUG[key] = version;\n",
       "            return resolve(paths[lib]);\n",
       "          };\n",
       "          s.onerror = () => reject(`Error loading script: ${paths[lib]}`);\n",
       "          s.src = paths[lib];\n",
       "        });\n",
       "    }\n",
       "\n",
       "    function showError(err) {\n",
       "      outputDiv.innerHTML = `<div class=\"error\" style=\"color:red;\">${err}</div>`;\n",
       "      throw err;\n",
       "    }\n",
       "\n",
       "    function displayChart(vegaEmbed) {\n",
       "      vegaEmbed(outputDiv, spec, embedOpt)\n",
       "        .catch(err => showError(`Javascript Error: ${err.message}<br>This usually means there's a typo in your chart specification. See the javascript console for the full traceback.`));\n",
       "    }\n",
       "\n",
       "    if(typeof define === \"function\" && define.amd) {\n",
       "      requirejs.config({paths});\n",
       "      require([\"vega-embed\"], displayChart, err => showError(`Error loading script: ${err.message}`));\n",
       "    } else {\n",
       "      maybeLoadScript(\"vega\", \"5\")\n",
       "        .then(() => maybeLoadScript(\"vega-lite\", \"4.17.0\"))\n",
       "        .then(() => maybeLoadScript(\"vega-embed\", \"6\"))\n",
       "        .catch(showError)\n",
       "        .then(() => displayChart(vegaEmbed));\n",
       "    }\n",
       "  })({\"config\": {\"view\": {\"continuousWidth\": 400, \"continuousHeight\": 300}}, \"data\": {\"name\": \"data-146870a913fef2f69ea896c803d7230e\"}, \"mark\": \"line\", \"encoding\": {\"x\": {\"field\": \"epoch\", \"type\": \"quantitative\"}, \"y\": {\"field\": \"score\", \"type\": \"quantitative\"}}, \"$schema\": \"https://vega.github.io/schema/vega-lite/v4.17.0.json\", \"datasets\": {\"data-146870a913fef2f69ea896c803d7230e\": [{\"epoch\": 0, \"score\": 0}, {\"epoch\": 1, \"score\": 0}, {\"epoch\": 2, \"score\": 0}, {\"epoch\": 3, \"score\": 0}, {\"epoch\": 4, \"score\": 0}, {\"epoch\": 5, \"score\": 0}, {\"epoch\": 6, \"score\": 0}, {\"epoch\": 7, \"score\": 0}, {\"epoch\": 8, \"score\": 0}, {\"epoch\": 9, \"score\": 0}, {\"epoch\": 10, \"score\": 0}, {\"epoch\": 11, \"score\": 0}, {\"epoch\": 12, \"score\": 0}, {\"epoch\": 13, \"score\": 0}, {\"epoch\": 14, \"score\": 0}, {\"epoch\": 15, \"score\": 0}, {\"epoch\": 16, \"score\": 0}, {\"epoch\": 17, \"score\": 0}, {\"epoch\": 18, \"score\": 0}, {\"epoch\": 19, \"score\": 0}, {\"epoch\": 20, \"score\": 0}, {\"epoch\": 21, \"score\": 0}, {\"epoch\": 22, \"score\": 0}, {\"epoch\": 23, \"score\": 0}, {\"epoch\": 24, \"score\": 0}, {\"epoch\": 25, \"score\": 0}, {\"epoch\": 26, \"score\": 0}, {\"epoch\": 27, \"score\": 0}, {\"epoch\": 28, \"score\": 0}, {\"epoch\": 29, \"score\": 0}, {\"epoch\": 30, \"score\": 0}, {\"epoch\": 31, \"score\": 0}, {\"epoch\": 32, \"score\": 0}, {\"epoch\": 33, \"score\": 0}, {\"epoch\": 34, \"score\": 0}, {\"epoch\": 35, \"score\": 0}, {\"epoch\": 36, \"score\": 0}, {\"epoch\": 37, \"score\": 0}, {\"epoch\": 38, \"score\": 0}, {\"epoch\": 39, \"score\": 0}, {\"epoch\": 40, \"score\": 0}, {\"epoch\": 41, \"score\": 0}, {\"epoch\": 42, \"score\": 0}, {\"epoch\": 43, \"score\": 0}, {\"epoch\": 44, \"score\": 0}, {\"epoch\": 45, \"score\": 0}, {\"epoch\": 46, \"score\": 0}, {\"epoch\": 47, \"score\": 0}, {\"epoch\": 48, \"score\": 0}, {\"epoch\": 49, \"score\": 0}, {\"epoch\": 50, \"score\": 0}, {\"epoch\": 51, \"score\": 0}, {\"epoch\": 52, \"score\": 0}, {\"epoch\": 53, \"score\": 1}, {\"epoch\": 54, \"score\": 1}, {\"epoch\": 55, \"score\": 1}, {\"epoch\": 56, \"score\": 1}, {\"epoch\": 57, \"score\": 1}, {\"epoch\": 58, \"score\": 1}, {\"epoch\": 59, \"score\": 1}, {\"epoch\": 60, \"score\": 1}, {\"epoch\": 61, \"score\": 1}, {\"epoch\": 62, \"score\": 1}, {\"epoch\": 63, \"score\": 1}, {\"epoch\": 64, \"score\": 1}, {\"epoch\": 65, \"score\": 1}, {\"epoch\": 66, \"score\": 1}, {\"epoch\": 67, \"score\": 1}, {\"epoch\": 68, \"score\": 2}, {\"epoch\": 69, \"score\": 1}, {\"epoch\": 70, \"score\": 1}, {\"epoch\": 71, \"score\": 1}, {\"epoch\": 72, \"score\": 1}, {\"epoch\": 73, \"score\": 1}, {\"epoch\": 74, \"score\": 1}, {\"epoch\": 75, \"score\": 1}, {\"epoch\": 76, \"score\": 1}, {\"epoch\": 77, \"score\": 1}, {\"epoch\": 78, \"score\": 1}, {\"epoch\": 79, \"score\": 1}, {\"epoch\": 80, \"score\": 1}, {\"epoch\": 81, \"score\": 1}, {\"epoch\": 82, \"score\": 1}, {\"epoch\": 83, \"score\": 2}, {\"epoch\": 84, \"score\": 2}, {\"epoch\": 85, \"score\": 2}, {\"epoch\": 86, \"score\": 2}, {\"epoch\": 87, \"score\": 2}, {\"epoch\": 88, \"score\": 2}, {\"epoch\": 89, \"score\": 2}, {\"epoch\": 90, \"score\": 2}, {\"epoch\": 91, \"score\": 2}, {\"epoch\": 92, \"score\": 2}, {\"epoch\": 93, \"score\": 2}, {\"epoch\": 94, \"score\": 2}, {\"epoch\": 95, \"score\": 2}, {\"epoch\": 96, \"score\": 2}, {\"epoch\": 97, \"score\": 2}, {\"epoch\": 98, \"score\": 2}, {\"epoch\": 99, \"score\": 2}, {\"epoch\": 100, \"score\": 2}, {\"epoch\": 101, \"score\": 2}, {\"epoch\": 102, \"score\": 2}, {\"epoch\": 103, \"score\": 2}, {\"epoch\": 104, \"score\": 2}, {\"epoch\": 105, \"score\": 2}, {\"epoch\": 106, \"score\": 2}, {\"epoch\": 107, \"score\": 2}, {\"epoch\": 108, \"score\": 2}, {\"epoch\": 109, \"score\": 2}, {\"epoch\": 110, \"score\": 2}, {\"epoch\": 111, \"score\": 2}, {\"epoch\": 112, \"score\": 2}, {\"epoch\": 113, \"score\": 2}, {\"epoch\": 114, \"score\": 2}, {\"epoch\": 115, \"score\": 2}, {\"epoch\": 116, \"score\": 2}, {\"epoch\": 117, \"score\": 2}, {\"epoch\": 118, \"score\": 2}, {\"epoch\": 119, \"score\": 2}, {\"epoch\": 120, \"score\": 3}, {\"epoch\": 121, \"score\": 3}, {\"epoch\": 122, \"score\": 3}, {\"epoch\": 123, \"score\": 3}, {\"epoch\": 124, \"score\": 3}, {\"epoch\": 125, \"score\": 3}, {\"epoch\": 126, \"score\": 3}, {\"epoch\": 127, \"score\": 3}, {\"epoch\": 128, \"score\": 3}, {\"epoch\": 129, \"score\": 3}, {\"epoch\": 130, \"score\": 3}, {\"epoch\": 131, \"score\": 3}, {\"epoch\": 132, \"score\": 3}, {\"epoch\": 133, \"score\": 3}, {\"epoch\": 134, \"score\": 3}, {\"epoch\": 135, \"score\": 3}, {\"epoch\": 136, \"score\": 3}, {\"epoch\": 137, \"score\": 3}, {\"epoch\": 138, \"score\": 3}, {\"epoch\": 139, \"score\": 3}, {\"epoch\": 140, \"score\": 3}, {\"epoch\": 141, \"score\": 3}, {\"epoch\": 142, \"score\": 3}, {\"epoch\": 143, \"score\": 3}, {\"epoch\": 144, \"score\": 3}, {\"epoch\": 145, \"score\": 3}, {\"epoch\": 146, \"score\": 3}, {\"epoch\": 147, \"score\": 3}, {\"epoch\": 148, \"score\": 3}, {\"epoch\": 149, \"score\": 3}, {\"epoch\": 150, \"score\": 3}, {\"epoch\": 151, \"score\": 3}, {\"epoch\": 152, \"score\": 3}, {\"epoch\": 153, \"score\": 3}, {\"epoch\": 154, \"score\": 4}, {\"epoch\": 155, \"score\": 4}, {\"epoch\": 156, \"score\": 4}, {\"epoch\": 157, \"score\": 4}, {\"epoch\": 158, \"score\": 4}, {\"epoch\": 159, \"score\": 4}, {\"epoch\": 160, \"score\": 4}, {\"epoch\": 161, \"score\": 4}, {\"epoch\": 162, \"score\": 4}, {\"epoch\": 163, \"score\": 4}, {\"epoch\": 164, \"score\": 4}, {\"epoch\": 165, \"score\": 4}, {\"epoch\": 166, \"score\": 4}, {\"epoch\": 167, \"score\": 4}, {\"epoch\": 168, \"score\": 4}, {\"epoch\": 169, \"score\": 4}, {\"epoch\": 170, \"score\": 4}, {\"epoch\": 171, \"score\": 4}, {\"epoch\": 172, \"score\": 4}, {\"epoch\": 173, \"score\": 4}, {\"epoch\": 174, \"score\": 4}, {\"epoch\": 175, \"score\": 4}, {\"epoch\": 176, \"score\": 4}, {\"epoch\": 177, \"score\": 4}, {\"epoch\": 178, \"score\": 4}, {\"epoch\": 179, \"score\": 4}, {\"epoch\": 180, \"score\": 4}, {\"epoch\": 181, \"score\": 4}, {\"epoch\": 182, \"score\": 4}, {\"epoch\": 183, \"score\": 4}, {\"epoch\": 184, \"score\": 4}, {\"epoch\": 185, \"score\": 4}, {\"epoch\": 186, \"score\": 4}, {\"epoch\": 187, \"score\": 4}, {\"epoch\": 188, \"score\": 4}, {\"epoch\": 189, \"score\": 4}, {\"epoch\": 190, \"score\": 4}, {\"epoch\": 191, \"score\": 4}, {\"epoch\": 192, \"score\": 4}, {\"epoch\": 193, \"score\": 4}, {\"epoch\": 194, \"score\": 4}, {\"epoch\": 195, \"score\": 5}, {\"epoch\": 196, \"score\": 5}, {\"epoch\": 197, \"score\": 5}, {\"epoch\": 198, \"score\": 5}, {\"epoch\": 199, \"score\": 5}, {\"epoch\": 200, \"score\": 5}, {\"epoch\": 201, \"score\": 5}, {\"epoch\": 202, \"score\": 5}, {\"epoch\": 203, \"score\": 5}, {\"epoch\": 204, \"score\": 5}, {\"epoch\": 205, \"score\": 5}, {\"epoch\": 206, \"score\": 5}, {\"epoch\": 207, \"score\": 5}, {\"epoch\": 208, \"score\": 5}, {\"epoch\": 209, \"score\": 5}, {\"epoch\": 210, \"score\": 5}, {\"epoch\": 211, \"score\": 5}, {\"epoch\": 212, \"score\": 5}, {\"epoch\": 213, \"score\": 5}, {\"epoch\": 214, \"score\": 5}, {\"epoch\": 215, \"score\": 5}, {\"epoch\": 216, \"score\": 5}, {\"epoch\": 217, \"score\": 5}, {\"epoch\": 218, \"score\": 5}, {\"epoch\": 219, \"score\": 5}, {\"epoch\": 220, \"score\": 5}, {\"epoch\": 221, \"score\": 5}, {\"epoch\": 222, \"score\": 5}, {\"epoch\": 223, \"score\": 5}, {\"epoch\": 224, \"score\": 5}, {\"epoch\": 225, \"score\": 5}, {\"epoch\": 226, \"score\": 5}, {\"epoch\": 227, \"score\": 5}, {\"epoch\": 228, \"score\": 5}, {\"epoch\": 229, \"score\": 5}, {\"epoch\": 230, \"score\": 6}, {\"epoch\": 231, \"score\": 6}, {\"epoch\": 232, \"score\": 6}, {\"epoch\": 233, \"score\": 6}, {\"epoch\": 234, \"score\": 6}, {\"epoch\": 235, \"score\": 6}, {\"epoch\": 236, \"score\": 6}, {\"epoch\": 237, \"score\": 6}, {\"epoch\": 238, \"score\": 6}, {\"epoch\": 239, \"score\": 6}, {\"epoch\": 240, \"score\": 6}, {\"epoch\": 241, \"score\": 6}, {\"epoch\": 242, \"score\": 6}, {\"epoch\": 243, \"score\": 6}, {\"epoch\": 244, \"score\": 6}, {\"epoch\": 245, \"score\": 6}, {\"epoch\": 246, \"score\": 6}, {\"epoch\": 247, \"score\": 6}, {\"epoch\": 248, \"score\": 6}, {\"epoch\": 249, \"score\": 6}, {\"epoch\": 250, \"score\": 6}, {\"epoch\": 251, \"score\": 6}, {\"epoch\": 252, \"score\": 6}, {\"epoch\": 253, \"score\": 6}, {\"epoch\": 254, \"score\": 6}, {\"epoch\": 255, \"score\": 6}, {\"epoch\": 256, \"score\": 6}, {\"epoch\": 257, \"score\": 6}, {\"epoch\": 258, \"score\": 6}, {\"epoch\": 259, \"score\": 6}, {\"epoch\": 260, \"score\": 6}, {\"epoch\": 261, \"score\": 6}, {\"epoch\": 262, \"score\": 7}, {\"epoch\": 263, \"score\": 6}, {\"epoch\": 264, \"score\": 6}, {\"epoch\": 265, \"score\": 6}, {\"epoch\": 266, \"score\": 6}, {\"epoch\": 267, \"score\": 6}, {\"epoch\": 268, \"score\": 7}, {\"epoch\": 269, \"score\": 7}, {\"epoch\": 270, \"score\": 7}, {\"epoch\": 271, \"score\": 7}, {\"epoch\": 272, \"score\": 7}, {\"epoch\": 273, \"score\": 7}, {\"epoch\": 274, \"score\": 7}, {\"epoch\": 275, \"score\": 7}, {\"epoch\": 276, \"score\": 7}, {\"epoch\": 277, \"score\": 7}, {\"epoch\": 278, \"score\": 7}, {\"epoch\": 279, \"score\": 7}, {\"epoch\": 280, \"score\": 7}, {\"epoch\": 281, \"score\": 7}, {\"epoch\": 282, \"score\": 7}, {\"epoch\": 283, \"score\": 7}, {\"epoch\": 284, \"score\": 7}, {\"epoch\": 285, \"score\": 7}, {\"epoch\": 286, \"score\": 7}, {\"epoch\": 287, \"score\": 7}, {\"epoch\": 288, \"score\": 7}, {\"epoch\": 289, \"score\": 7}, {\"epoch\": 290, \"score\": 7}, {\"epoch\": 291, \"score\": 8}, {\"epoch\": 292, \"score\": 8}, {\"epoch\": 293, \"score\": 8}, {\"epoch\": 294, \"score\": 8}, {\"epoch\": 295, \"score\": 8}, {\"epoch\": 296, \"score\": 8}, {\"epoch\": 297, \"score\": 8}, {\"epoch\": 298, \"score\": 8}, {\"epoch\": 299, \"score\": 8}, {\"epoch\": 300, \"score\": 8}, {\"epoch\": 301, \"score\": 8}, {\"epoch\": 302, \"score\": 8}, {\"epoch\": 303, \"score\": 8}, {\"epoch\": 304, \"score\": 8}, {\"epoch\": 305, \"score\": 8}, {\"epoch\": 306, \"score\": 8}, {\"epoch\": 307, \"score\": 8}, {\"epoch\": 308, \"score\": 8}, {\"epoch\": 309, \"score\": 8}, {\"epoch\": 310, \"score\": 8}]}}, {\"mode\": \"vega-lite\"});\n",
       "</script>"
      ],
      "text/plain": [
       "alt.Chart(...)"
      ]
     },
     "execution_count": 51,
     "metadata": {},
     "output_type": "execute_result"
    }
   ],
   "source": [
    "df = pd.DataFrame({'epoch': [i for i in range(len( data['epoch_score']))], 'score': data['epoch_score']})\n",
    "alt.Chart(df).mark_line().encode(\n",
    "    x='epoch',\n",
    "    y='score',\n",
    ")"
   ]
  },
  {
   "cell_type": "code",
   "execution_count": null,
   "metadata": {},
   "outputs": [],
   "source": []
  }
 ],
 "metadata": {
  "interpreter": {
   "hash": "e8c5b4b062ec146843a4e9257c4b55bed920629d075dd594dd6a143d7c4ec2fe"
  },
  "kernelspec": {
   "display_name": "Python 3.10.3 64-bit",
   "language": "python",
   "name": "python3"
  },
  "language_info": {
   "codemirror_mode": {
    "name": "ipython",
    "version": 3
   },
   "file_extension": ".py",
   "mimetype": "text/x-python",
   "name": "python",
   "nbconvert_exporter": "python",
   "pygments_lexer": "ipython3",
   "version": "3.10.3"
  },
  "orig_nbformat": 4
 },
 "nbformat": 4,
 "nbformat_minor": 2
}
